import pandas as pd
import numpy as np
import seaborn as sns
import matplotlib.pyplot as plt
from sklearn.datasets import fetch_california_housing
from sklearn.preprocessing import StandardScaler
from sklearn.model_selection import train_test_split
from sklearn.linear_model import LinearRegression
from sklearn.ensemble import RandomForestRegressor
from sklearn.model_selection import GridSearchCV
from sklearn.metrics import mean_squared_error,r2_score

# Load dataset.
california = fetch_california_housing()
X = pd.DataFrame(california.data, columns=california.feature_names)  # Features
y = california.target

# Display the first few rows
print(X.head())

# Basic statistics
print(X.describe())

# Visualize the distribution of the target variable
plt.figure(figsize=(8, 6))
sns.histplot(y, bins=50, kde=True)
plt.title("Distribution of Median House Values")
plt.xlabel("Median House Value (in $100,000s)")
plt.ylabel("Frequency")
plt.show()

#Splitting the Data into Train & Test set.
X_train, X_test, y_train, y_test = train_test_split(X, y, test_size=0.2, random_state=42)

# Initialize the scaler
scaler = StandardScaler()

# Fit and transform the training data
X_train_scaled = scaler.fit_transform(X_train)

# Transform the test data
X_test_scaled = scaler.transform(X_test)

#Training a model.
#Random Forest Regressor.
model = RandomForestRegressor()
model.fit(X_train, y_train)

#Evaluating the Model.
y_pred = model.predict(X_test)
mse = mean_squared_error(y_test, y_pred)
r2 = r2_score(y_test, y_pred)
print(f"Mean Squared Error: {mse*100}")
print(f"R² Score: {r2*100}")

